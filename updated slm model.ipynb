{
  "nbformat": 4,
  "nbformat_minor": 0,
  "metadata": {
    "colab": {
      "provenance": []
    },
    "kernelspec": {
      "name": "python3",
      "display_name": "Python 3"
    },
    "language_info": {
      "name": "python"
    }
  },
  "cells": [
    {
      "cell_type": "code",
      "execution_count": null,
      "metadata": {
        "id": "E0jX_V-vv4pr"
      },
      "outputs": [],
      "source": [
        "from transformers import TFAutoModelForSequenceClassification, AutoTokenizer\n",
        "import tensorflow as tf\n",
        "import tensorflow.keras.backend as K\n",
        "import tensorflow.keras.layers as layers\n",
        "\n",
        "model_name = 'distilbert-base-uncased'\n",
        "model = TFAutoModelForSequenceClassification.from_pretrained(model_name, num_labels=6)  # 6 emotions\n",
        "tokenizer = AutoTokenizer.from_pretrained(model_name)"
      ]
    },
    {
      "cell_type": "code",
      "source": [
        "def preprocess_text(text):\n",
        "    encodings = tokenizer(text, padding=True, truncation=True, return_tensors=\"tf\")\n",
        "    return encodings"
      ],
      "metadata": {
        "id": "1c6jfX2Kw7T_"
      },
      "execution_count": null,
      "outputs": []
    },
    {
      "cell_type": "code",
      "source": [
        "emotion_labels = [\"happy\", \"sad\", \"angry\", \"anxious\", \"neutral\", \"excited\"]"
      ],
      "metadata": {
        "id": "DoscklVUw7Qi"
      },
      "execution_count": null,
      "outputs": []
    },
    {
      "cell_type": "code",
      "source": [
        "def predict_emotion(text):\n",
        "    inputs=preprocess_text(text)\n",
        "    outputs=model(inputs)\n",
        "    logits=outputs.logits\n",
        "    predicted_class=tf.argmax(logits, axis=1)\n",
        "    return emotion_labels[predicted_class.numpy()[0]]"
      ],
      "metadata": {
        "id": "R3ZSpmLXxJok"
      },
      "execution_count": null,
      "outputs": []
    },
    {
      "cell_type": "code",
      "source": [
        "def generate_response(emotion):\n",
        "    responses = {\n",
        "        \"happy\": \"I'm glad you're feeling good! 😊 What's making you so happy?\",\n",
        "        \"sad\": \"I'm sorry to hear that. Want to talk about what's on your mind? 💙\",\n",
        "        \"angry\": \"I understand that you're upset. Take a deep breath. 😌\",\n",
        "        \"anxious\": \"It's okay to feel anxious. Would you like to share more? 💭\",\n",
        "        \"neutral\": \"I see you're feeling neutral. What's going on? 🤔\",\n",
        "        \"excited\": \"That’s awesome! Tell me more about what’s got you excited! 🎉\"\n",
        "    }\n",
        "\n",
        "    return responses.get(emotion, \"I’m here to listen! 😊\")\n",
        "\n",
        "# Example interaction\n",
        "user_input = \"I'm feeling a bit overwhelmed today.\"\n",
        "predicted_emotion = predict_emotion(user_input)\n",
        "response = generate_response(predicted_emotion)\n",
        "print(f\"Emotion: {predicted_emotion}\")\n",
        "print(f\"Response: {response}\")"
      ],
      "metadata": {
        "colab": {
          "base_uri": "https://localhost:8080/"
        },
        "id": "qo3sEX9KxQd-",
        "outputId": "0fd8c917-9abe-4f01-dd99-d9eac587f061"
      },
      "execution_count": null,
      "outputs": [
        {
          "output_type": "stream",
          "name": "stdout",
          "text": [
            "Emotion: excited\n",
            "Response: That’s awesome! Tell me more about what’s got you excited! 🎉\n"
          ]
        }
      ]
    },
    {
      "cell_type": "code",
      "source": [
        "\n",
        "import tensorflow as tf\n",
        "\n",
        "model.compile(optimizer=\"adam\",\n",
        "              loss=tf.keras.losses.SparseCategoricalCrossentropy(from_logits=True),\n",
        "              metrics=['accuracy'])"
      ],
      "metadata": {
        "id": "4cJ4fudCyV7q"
      },
      "execution_count": null,
      "outputs": []
    },
    {
      "cell_type": "code",
      "source": [
        "history = model.fit(\n",
        "    x= preprocess_text(user_input) ,  # Pass the tokenized training data\n",
        "    y=emotion_labels,      # Pass the training labels as a TensorFlow tensor\n",
        "    epochs=3,            # Adjust as needed\n",
        "    batch_size=16\n",
        ")"
      ],
      "metadata": {
        "id": "Fx_g-FOA1ahW"
      },
      "execution_count": null,
      "outputs": []
    }
  ]
}